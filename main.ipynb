{
 "cells": [
  {
   "cell_type": "markdown",
   "metadata": {},
   "source": [
    "# ![Untitled (1).png](<attachment:Untitled (1).png>)"
   ]
  },
  {
   "cell_type": "code",
   "execution_count": 117,
   "metadata": {},
   "outputs": [],
   "source": [
    "import streamlit as st \n",
    "import pdfplumber\n",
    "import os\n",
    "from langchain.embeddings import HuggingFaceEmbeddings\n",
    "from langchain_anthropic import ChatAnthropic\n",
    "from langchain.text_splitter import CharacterTextSplitter\n",
    "from langchain_community.vectorstores import FAISS\n",
    "from dotenv import load_dotenv\n",
    "# import nltk\n",
    "# from rank_bm25 import BM25Okapi\n",
    "# import numpy as np"
   ]
  },
  {
   "cell_type": "code",
   "execution_count": 118,
   "metadata": {},
   "outputs": [],
   "source": [
    "def get_pdf_text(pdf_docs):\n",
    "    text = \"\"\n",
    "    for pdf in pdf_docs:\n",
    "        with pdfplumber.open(pdf) as pdf:\n",
    "            for page in pdf.pages:\n",
    "                text += page.extract_text()\n",
    "    return text"
   ]
  },
  {
   "cell_type": "code",
   "execution_count": 119,
   "metadata": {},
   "outputs": [],
   "source": [
    "pdf_path = (\n",
    "    \"C:/Users/Admin/Desktop/MY/INTERNSHIPS/GovConn.ai/Info/Research_Paper_ChatPDF.pdf\"\n",
    ")\n",
    "raw_text = get_pdf_text([pdf_path])"
   ]
  },
  {
   "cell_type": "code",
   "execution_count": 120,
   "metadata": {},
   "outputs": [],
   "source": [
    "def get_text_chunks(text):\n",
    "    text_splitter = CharacterTextSplitter(\n",
    "        separator=\"\\n\", chunk_size=1000, chunk_overlap=200, length_function=len\n",
    "    )\n",
    "    chunks = text_splitter.split_text(text)\n",
    "    return chunks"
   ]
  },
  {
   "cell_type": "code",
   "execution_count": 121,
   "metadata": {},
   "outputs": [
    {
     "name": "stdout",
     "output_type": "stream",
     "text": [
      "['Cite as: Panda, S. (2023). Enhancing PDF interaction for a more engaging user experience in library:\\nIntroducing ChatPDF. IP Indian Journal of Library Science and Information Technology, 8(1), 20–25.\\nhttps://doi.org/10.18231/j.ijlsit.2023.004\\nEnhancing PDF Interaction for a More Engaging User Experience in\\nLibrary: Introducing ChatPDF\\nAbstract\\nPurpose: The paper introduces ChatPDF as a solution to the limited interaction capabilities\\nof traditional PDF readers in library systems. It highlights the benefits of ChatPDF for\\nenhancing user engagement and satisfaction with digital resources in libraries, and identifies\\npotential areas for implementationand opportunitiesfor further research.\\nDesign/methodology/approach: The paper addresses the issue of limited PDF interaction\\ncapabilities of traditional PDF readers in library systems and their potential to cause\\nfrustration and disengagement among users. It proposes ChatPDF, an online software', 'capabilities of traditional PDF readers in library systems and their potential to cause\\nfrustration and disengagement among users. It proposes ChatPDF, an online software\\nplatform that leverages ChatGPT API to offer a more intuitive and natural way of engaging\\nwith PDF documents. The paper also outlines the various features and advantages of\\nChatPDFand itspotential impact onlibrary systems.\\nFindings: The paper concludes that ChatPDF offers a more advanced and user-friendly\\napproach to interacting with PDF files than traditional PDF readers. It recommends libraries\\nto consider implementing ChatPDF to enhance user engagement and satisfaction with their\\ndigital resources. The paper also identifies limitations and opportunities for future research in\\nevaluating theimpact of ChatPDFonuser experience and library systems.\\nOriginality: This paper introduces ChatPDF as a solution to the limited PDF interaction', 'evaluating theimpact of ChatPDFonuser experience and library systems.\\nOriginality: This paper introduces ChatPDF as a solution to the limited PDF interaction\\ncapabilities in library systems, highlighting its unique features and benefits, such as\\nsummarization, recommendations, multi-lingual support, and AI assistance. It also discusses\\nthe potential impact of ChatPDF implementation on library systems, making it an original\\nand valuable contribution to thefield oflibrary science.\\nKeywords: ChatPDF, ChatGPT API, Traditional PDF Readers, User Engagement,\\nInteractivePDF, Library\\n1. Introduction\\nIn the digital age, libraries have shifted from being purely physical spaces to also providing\\nonline resources for their users1. One common format for digital resources is the Portable\\nDocument Format (PDF). PDFs allow for easy distribution of information and can preserve\\nthelayout and formatting ofa document, making them popular foracademic articles, research', 'Document Format (PDF). PDFs allow for easy distribution of information and can preserve\\nthelayout and formatting ofa document, making them popular foracademic articles, research\\nreports, and other types of content2. However, one common problem with PDFs in library\\nsystems istheirlimited interaction capabilities.\\nUnlike web pages or other digital resources, PDFs do not have the same level of interactivity.\\nUsers are often unable to search within the document, make annotations or highlight text, or\\neasily navigate to different sections. This can lead to frustration and disengagement for\\nlibrary users, who may prefer resources with more interactive features. Addressing the\\nproblem of PDF interaction in library systems is crucial for improving user engagement and\\nsatisfaction. By providing users with more interactive PDFs, libraries can enhance the user\\nexperience and increase thelikelihoodthat users willreturn to thelibrary as aresource.', 'satisfaction. By providing users with more interactive PDFs, libraries can enhance the user\\nexperience and increase thelikelihoodthat users willreturn to thelibrary as aresource.\\nElectronic copy available at: https://ssrn.com/abstract=4616560One potential solution to this problem is ChatPDF3. ChatPDF is a online software platform\\nthat utilizes the power of ChatGPT API to provide users with a more intuitive and natural\\nway to engage with PDF documents4. By integrating ChatPDF with library systems, patrons\\ncan access and interact with PDF documents through a chat-based interface, allowing for\\nmore efficient and effective communication with the library’s digital resources like books,\\nresearch papers, thesis, manuals, essays and whatever they want5,6. With ChatPDF, users can\\nask questions, request assistance, and navigate PDF documents with ease, making it an\\ninnovativeand valuable addition toany library system.\\n2. Studyobjectives\\nThepotential objectives of thisstudy are,', 'ask questions, request assistance, and navigate PDF documents with ease, making it an\\ninnovativeand valuable addition toany library system.\\n2. Studyobjectives\\nThepotential objectives of thisstudy are,\\n(i) To evaluate the effectiveness of ChatPDF in enhancing user engagement and satisfaction\\nwithdigital resources inlibraries.\\n(ii) To identify potential areas for ChatPDF implementation in library systems and the\\nassociated benefits and limitations.\\n(iii) To explore the unique features and advantages of ChatPDF, including summarization,\\nrecommendations, multi-lingual support, and AI assistance.\\n(iv) To assess the impact of ChatPDF implementation on library systems, including the\\nusabilityand accessibilityofdigital resources.\\n(v) To propose future research directions for evaluating the impact of ChatPDF on user\\nexperience and library systems.\\n(vi) To contribute to the field of library science by introducing ChatPDF as an innovative', 'experience and library systems.\\n(vi) To contribute to the field of library science by introducing ChatPDF as an innovative\\nsolution to the limitations of traditional PDF readers and highlighting its potential\\nbenefitsfor libraries and theirusers.\\n3. AI Revolution:ChatGPT inLibrary Systems\\nAI research and development has a rich history, with technologies like facial recognition and\\nadaptive systems already in use. ChatGPT builds upon GPT-3, a language model introduced\\nin 2020, showcasing the rapid progress in this field7. This highlights the accelerating pace of\\nadvancements in AI, signaling theearly stages of an AI revolution.\\nElectronic copy available at: https://ssrn.com/abstract=4616560Figure1: Evaluation fromTransformer Architecture to ChatGPT7\\nChatGPT in libraries has diverse applications, improving research, search, reference services,\\nwriting assistance, and information literacy instruction. It expands AI’s impact, offering', 'ChatGPT in libraries has diverse applications, improving research, search, reference services,\\nwriting assistance, and information literacy instruction. It expands AI’s impact, offering\\npotential in multiple areas. Some of the previous study8, 9, 10 tried to identify some of these\\nareas, suchas:\\ni) Instant access to a wealth ofinformation withinseconds.\\nii) 24/7availability for round-the-clock reference assistance.\\niii) Multilingual support fordiverse communities.\\niv) Personalized recommendations and services tailored to individual needs.\\nv) Improved accessibilityfor users with visual orhearing impairments.\\nvi) Data collection and analysis forvaluable insights onuserneeds.\\nvii) Scalabilityto handle large volumesof queries simultaneously.\\nviii)Enhanced user engagement through dynamicconversations.\\nix) Integrationwith other library services for aseamless experience.\\nx) Cost-effectivealternativeto humancustomer service representatives.', 'viii)Enhanced user engagement through dynamicconversations.\\nix) Integrationwith other library services for aseamless experience.\\nx) Cost-effectivealternativeto humancustomer service representatives.\\nIn addition to thedirect impact areas mentioned, ChatGPT is utilized bystudents, researchers,\\nacademicians, and library professionals in various applications. Indirectly, ChatGPT is\\nintegrated with other tools, such as SheetGPT11, to enhance services for users. ChatPDF is\\nanother tool that leverages the ChatGPT API for improved analysis and interaction with PDF\\nfiles. To better understand the benefits of ChatPDF, the paper will further explore the\\nlimitationsof traditional PDFinteraction methods in thefollowingsection.\\n4. Limitationsof traditionalPDF interaction methods\\nTraditional PDF interaction methods have certain limitations that can impact the user\\nexperience and hinderengagement.\\ni) Limited interactivity: Traditional PDFs are static documents that offer limited', 'experience and hinderengagement.\\ni) Limited interactivity: Traditional PDFs are static documents that offer limited\\ninteractivity, which can make them less engaging and less useful for users who are\\nlooking for more dynamic content. For example, users may not beable to interact with or\\nmanipulate the information in a traditional PDF in the same way that they could with a\\nwebpage orother digital content.\\nii) Inefficient navigation: PDFs can be challenging to navigate, particularly for longer\\ndocuments. Users may have difficulty finding specific information or moving between\\ndifferent sections of thedocument, which can lead tofrustration and reduced engagement.\\nElectronic copy available at: https://ssrn.com/abstract=4616560iii) Limited accessibility: Traditional PDFs may not be accessible to all users, particularly\\nthose with visual impairments or other disabilities. PDFs may not be compatible with\\nscreen readers or other assistive technologies, which can make it difficult for some users', 'those with visual impairments or other disabilities. PDFs may not be compatible with\\nscreen readers or other assistive technologies, which can make it difficult for some users\\ntoaccess theinformation in thedocument.\\niv) Compatibility issues: Some users may have difficulty accessing or viewing traditional\\nPDFs due to compatibility issues with their devices or software. For example, a user may\\nnot be able to view a PDF on their mobile device or may have difficulty opening a PDF\\nina specific web browser.\\nv) Limited analytics: Traditional PDFs do not offer the same level of analytics and\\ntracking as other digital content, which can make it challenging for publishers and\\nmarketers to understand how users are interacting with the document. This can make it\\nmoredifficult to optimizecontent and improveengagement over time.\\n5. Introductionof ChatPDF\\nChatPDF is a cutting-edge platform driven by artificial intelligence, enabling users to', 'moredifficult to optimizecontent and improveengagement over time.\\n5. Introductionof ChatPDF\\nChatPDF is a cutting-edge platform driven by artificial intelligence, enabling users to\\nefficiently retrieve information from extensive PDF files, including research papers, books,\\nlegal contracts, essays, and manuals12. By engaging in natural language conversations, users\\ncan interact with PDF files as if they were having a conversation with a human. The AI-\\npowered tool analyzes PDF files to provide summaries and extract relevant information,\\ncovering a wide range of content types, from textbooks and research papers to legal\\ndocuments and contracts13. ChatPDF offers limitless possibilities, such as generating book\\nsummaries orproviding brief biographies of main characters.\\n5.1.Features ofChatPDF\\nChatPDFoffers a range ofdistinctivefeatures 12,14:\\ni) Utilizing AI technology: Powered by advanced AI, ChatPDF ensures the delivery of\\naccurate and reliable information.', '5.1.Features ofChatPDF\\nChatPDFoffers a range ofdistinctivefeatures 12,14:\\ni) Utilizing AI technology: Powered by advanced AI, ChatPDF ensures the delivery of\\naccurate and reliable information.\\nii) Information extraction: Extract valuable information from various document types,\\nincludingmanuals, essays, legal contracts, books,and research papers.\\niii) Semantic indexing: Through semantic indexing, ChatPDF comprehensively analyzes\\nPDFs, creating a semantic index for each paragraph. This enables more precise and\\nrelevant responses touser queries.\\niv) Integration with ChatGPT API: Seamlessly integrated with the ChatGPT API,\\nChatPDF processes user questions and provides responses using the power of natural\\nlanguage processing.\\nv) Secure cloud storage: Rest assured knowing that all data is stored securely in the cloud\\nenvironment. Furthermore, data is automatically deleted after 7 days, ensuring privacy\\nand confidentiality.', 'v) Secure cloud storage: Rest assured knowing that all data is stored securely in the cloud\\nenvironment. Furthermore, data is automatically deleted after 7 days, ensuring privacy\\nand confidentiality.\\nvi) User-friendly interface: Designed with a user-friendly interface, ChatPDF is accessible\\nand intuitive, catering to the needs of students, professionals, and curious individuals\\nalike.\\n5.2.UseCases ofChatPDF3,12:\\nElectronic copy available at: https://ssrn.com/abstract=4616560i) For Students: Elevate your learning experience with ChatPDF. Effortlessly comprehend\\ntextbooks, handouts, and presentations, eliminating the need for hours spent searching\\nthrough research papers and academic articles. Support your academic growth by\\nstudying effectively and responsibly.\\nii) For Work: Streamline document analysis with ChatPDF. Quickly retrieve relevant\\ninformation from financial reports, legal contracts, project proposals, and training', 'ii) For Work: Streamline document analysis with ChatPDF. Quickly retrieve relevant\\ninformation from financial reports, legal contracts, project proposals, and training\\nmanuals. Rest assured knowing that your data is securely stored in the cloud and can be\\ndeleted as needed.\\niii) For Curious Minds: Unleash your thirst for knowledge with ChatPDF. Explore the\\ndepths of historical documents, poetry, and literature, and gain valuable insights\\neffortlessly. ChatPDF is equipped to understand multiple languages and can respond in\\nyour preferred language. Expand your horizons and satisfy your curiosity with a tool\\ncapableofanswering any questionfrom any PDF.\\n6. HowChatGPT API enhancePDF interaction tool ChatPDF works?\\nHere are the steps that explain how the ChatGPT API enhances the PDF interaction tool\\nChatPDF3,4,15:\\nFigure 2:ChatPDF interface3\\ni) Upload PDF to ChatPDF: Users can interact with their PDFs through ChatPDF by', \"ChatPDF3,4,15:\\nFigure 2:ChatPDF interface3\\ni) Upload PDF to ChatPDF: Users can interact with their PDFs through ChatPDF by\\nuploading thePDFfile usingany ofthefollowing three available options(see Figure2):\\nBrowse my Computer - Users can upload a PDF from their personal computer by\\n\\uf06c\\nusing thisoption.\\nFrom URL - This option can be used if users have the designated URL (with .pdf) of\\n\\uf06c\\nthePDF file.\\nFind a PDF - This option enables users to find a PDF available online by its title,\\n\\uf06c\\nauthor, or any other credential. ChatPDF provides a simple search interface and\\ndisplays theresults ofall available options usingtheuser's search prompt.\\nElectronic copy available at: https://ssrn.com/abstract=4616560ii) Extract text and metadata: ChatGPT API can analyze the PDF and extract text and\\nmetadata from it. This allows ChatPDF to understand the content of the PDF and provide\\nmorerelevant suggestions andrecommendations to theuser.\", 'metadata from it. This allows ChatPDF to understand the content of the PDF and provide\\nmorerelevant suggestions andrecommendations to theuser.\\niii) Natural language processing: ChatGPT API uses natural language processing (NLP) to\\nunderstand user queries and provide accurate responses. This means that users can\\ninteract with ChatPDF in a conversational manner, just like they would with a human\\nlibrarian.\\niv) Intelligent recommendations: Based on the content of the PDF and user queries,\\nChatPDF can provide intelligent recommendations for related content. That means,\\nChatPDF by itself suggest a series of questions or important queries that users may need\\nto know (see Figure 3). Just like FAQs. Additionally, if a user is reading a book about\\nhistory, ChatPDF might suggest other booksonsimilartopics.\\nv) Interactive summarization: ChatGPT API can generate interactive summaries of the\\nPDF content (see Figure 3). This allows users to quickly understand the main points of a', 'v) Interactive summarization: ChatGPT API can generate interactive summaries of the\\nPDF content (see Figure 3). This allows users to quickly understand the main points of a\\ndocument without having to read theentire thing.\\nvi) Q&A assistance: ChatGPT API can answer user questions related to the PDF content.\\nFor example, if a user wants to know more about a particular concept mentioned in the\\nPDF, ChatPDF can provide a detailed explanation. They can ask any type of questions or\\nqueries and ChatPDF provide a meaningful answer based on the content available in the\\nPDFfile.\\nFigure3:Interaction with ChatPDF3\\nOverall, the ChatGPT API enhances the PDF interaction tool ChatPDF by enabling natural\\nlanguage processing, context-awareness, and easy annotation capabilitiesfor a moreengaging\\nuserexperience.\\nElectronic copy available at: https://ssrn.com/abstract=46165607. Comparison ofChatPDF to traditionalPDF readers', 'userexperience.\\nElectronic copy available at: https://ssrn.com/abstract=46165607. Comparison ofChatPDF to traditionalPDF readers\\nChatPDF is a noteworthy improvement over conventional PDF readers, as it provides users\\nwith more versatile, dynamic, and natural language interaction with PDF files. A comparison\\ntable between ChatPDF and traditional PDF readers is presented in Table 1, highlighting the\\nmajordifferences between them.\\nSN Domain TraditionalPDF readers ChatPDF\\n1 Two way Traditional PDF readers ChatPDF facilitates bi-directional\\ninteraction only allow for one-way interaction with PDF files, allowing\\ninteraction with PDF files users to engage in live chats to\\nfrom theuser end interact with thePDF content\\n2 Easy Traditional PDF readers ChatPDF is capable of generating a\\nsummarization lack the ability to generate summary of the entire PDF file,\\nsummaries of the content, which presents only the crucial\\nleaving users with the task information from the content in a', 'summarization lack the ability to generate summary of the entire PDF file,\\nsummaries of the content, which presents only the crucial\\nleaving users with the task information from the content in a\\nof reading the entire concise format, and facilitate easy\\ndocument to gain a comprehension of the document,\\ncomprehensive thereby enhancing the user\\nunderstanding ofthe content experience\\n3 Valuable Traditional PDF readers do ChatPDF provides some valuable\\nrecommendation not have the ability to recommendations or suggestions in\\nprovide recommendations points, highlighting the important\\nfor users to access relevant aspects discussed within thePDF\\ninformation available in the\\nPDFfile\\n4 Timesaver Traditional PDF readers are Features such as easy summarization\\nlimited in their ability to and recommendations assist users in\\nassist users in saving time navigating only the topics of their\\nby providing an interest within the PDF, thereby\\nunderstanding of the PDF saving theirvaluable time', 'assist users in saving time navigating only the topics of their\\nby providing an interest within the PDF, thereby\\nunderstanding of the PDF saving theirvaluable time\\nfile without requiring them\\ntoread it in itsentirety\\n5 Multi-lingual Most traditional PDF Through the use of ChatGPT API,\\nsupport interaction tools are limited ChatPDF is able to offer support for\\nto supporting only the multiple languages, thereby\\nlanguage in which the PDF enhancing the user experience by\\ncontent is written providing the same content in\\nvarious languages\\n6 AIassistance Traditional PDF readers ChatGPT API integration with\\nlack AI assistance for the ChatPDF enables the provision of AI\\nusers, leaving them to rely assistance to users, enabling them to\\nsolely on their own ask questions related to the PDF\\nunderstanding and content and receive accurate and\\ninterpretationof thecontent relevant responses\\n7 Cross-platform Traditional PDF readers that ChatPDF is compatible with all', 'understanding and content and receive accurate and\\ninterpretationof thecontent relevant responses\\n7 Cross-platform Traditional PDF readers that ChatPDF is compatible with all\\ncompatibility may have platform-specific major web browsers and operating\\ncompatibilityissues systems, making it more versatile\\nandconvenient forusers to access\\nElectronic copy available at: https://ssrn.com/abstract=4616560Table1:Comparison between ChatPDF and TraditionalPDF Readers\\n8. PossibleAreas of ChatPDF Implementations in Library Systems\\nHere are some potential areas where ChatPDF could be implemented within existing library\\nsystems:\\ni) Integration with existing library systems: ChatPDF can be integrated into existing\\nlibrary systems through APIs to provide users a new way of interacting with PDF files\\nthrough thelibrary’s onlineportal ormobileapp.\\nii) Virtual reference services: ChatPDF can be used as a virtual reference service for', 'through thelibrary’s onlineportal ormobileapp.\\nii) Virtual reference services: ChatPDF can be used as a virtual reference service for\\nlibrary users, providing them with a more engaging and interactive way to access and\\nexplorePDFdocuments.\\niii) Integration with library catalogue: ChatPDF can be customized to include library-\\nspecific features, such as integration with the library’s catalogue system or the ability to\\nsavenotes orbookmarks within thePDFdocument.\\niv) Accessible resources for diverse audiences: ChatPDF’s multi-lingual support and AI\\nassistance features make it a useful tool for making library resources more accessible to\\ndiverse audiences, includingnon-native speakers and thosewith visual impairments.\\nv) Online learning resources: Libraries can use ChatPDF to provide online learning\\nresources for their patrons. For example, a library could use ChatPDF to create\\ninteractivetutorials orguides forusing library resources or conducting research.', 'resources for their patrons. For example, a library could use ChatPDF to create\\ninteractivetutorials orguides forusing library resources or conducting research.\\nvi) Electronic theses and dissertations (ETDs): ChatPDF can be used to enhance the\\naccessibility and interactivity of ETDs. For example, a library could use ChatPDF to\\nprovide summaries, recommendations, and AI assistance for ETDs to help users navigate\\nand understand thecontent.\\nvii) Historical and rare collections: ChatPDF can be used by libraries to create digital\\ncollections of historical documents or rare books, where users can interact with the\\ndocuments in amore interactiveand engaging way.\\n9. Conclusion\\nThe ChatPDF tool provides an innovative and advanced approach to interacting with PDF\\nfiles compared to traditional PDF readers. With its user-friendly features such as\\nsummarization, recommendations, multi-lingual support, and AI assistance, ChatPDF offers a', 'files compared to traditional PDF readers. With its user-friendly features such as\\nsummarization, recommendations, multi-lingual support, and AI assistance, ChatPDF offers a\\nflexible and natural language interaction experience that significantly improves user\\nengagement and satisfaction. Therefore, libraries are encouraged to consider adopting\\nChatPDFto enhancetheir users’ PDFinteraction experience.\\nHowever, this study has some limitations and presents opportunities for further research.\\nWhile the ChatPDF system has been developed and tested, its actual impact on user\\nexperience and library systems requires further exploration. Future research could focus on\\nevaluating user satisfaction and engagement with ChatPDF in library systems, identifying\\nElectronic copy available at: https://ssrn.com/abstract=4616560additional features and enhancements, and assessing the potential impact of ChatPDF\\nimplementationonlibrary systems.\\nReferences', 'Electronic copy available at: https://ssrn.com/abstract=4616560additional features and enhancements, and assessing the potential impact of ChatPDF\\nimplementationonlibrary systems.\\nReferences\\n1. Duragannavar GF, Kumar HSA. Digital and Virtual Libraries: Transformation in\\nLibraries and Information Services. International Conference on Library Space and\\nContent Management for Networked Society (IC.LISCOM-2014). Bangalore: DVK\\nCentral Library, Dharmaram Vidya Kshetram; 2014.\\nhttps://www.researchgate.net/publication/345978690\\n2. Adobe. What is a PDF? Portable Document Format | Adobe Acrobat. Available from:\\nhttps://www.adobe.com/in/acrobat/about-adobe-pdf.html (accessed 27March 2023)\\n3. ChatPDF. Chat with any PDF! Available from: https://www.chatpdf.com/ (accessed 27\\nMarch 2023)\\n4. NapSaga. ChatPDF.com —Chat withany PDFusing thenew ChatGPT API. Updated on\\n2023 March 21. Available from: https://ai.plainenglish.io/chatpdf-com-chat-with-any-\\npdf-using-the-new-chatgpt-api-1864407a4d5f', '2023 March 21. Available from: https://ai.plainenglish.io/chatpdf-com-chat-with-any-\\npdf-using-the-new-chatgpt-api-1864407a4d5f\\n5. Future Tools. ChatPDF. Available from: https://www.futuretools.io/tools/chatpdf\\n(accessed 27March 2023)\\n6. Product Hunt. ChatPDF - Product Information, Latest Updates, and Reviews 2023.\\nAvailable from: https://www.producthunt.com/products/chatpdf (accessed 27 March\\n2023)\\n7. Kazienko P. ChatGPT has sparked a revolution. How will it change our lives? Updated\\non 2023 March 7. Available from: https://pwr.edu.pl/en/university/news/chatgpt-has-\\nsparked-a-revolution-how-will-it-change-our-lives-10621.html\\n8. Oyelude AA. (2023). Much ado about ChatGPT: libraries and librarians perspectives. Lib\\nHi Tech News.2023,40(3): 15–17.doi: 10.1108/lhtn-03-2023-0050\\n9. Panda S, Kaur N. Exploring the viability of ChatGPT as an alternative to traditional\\nchatbot systems in library and information centers. Lib Hi Tech News. 2023, 40(3): 22–\\n25.doi:10.1108/lhtn-02-2023-0032', 'chatbot systems in library and information centers. Lib Hi Tech News. 2023, 40(3): 22–\\n25.doi:10.1108/lhtn-02-2023-0032\\n10. Verma, M. (2023). Novel Study on AI-Based Chatbot (ChatGPT) Impacts on the\\nTraditional Library Management. Int J of Trend in Sci Res and Dev. 2023, 7(1): 961–964.\\nAvailablefrom: https://www.ijtsrd.com/papers/ijtsrd52767.pdf\\n11. Panda S, Kaur N. Revolutionizing language processing in libraries with SheetGPT: an\\nintegration of Google Sheet and ChatGPT plugin. Lib Hi Tech News. 2023. doi:\\n10.1108/lhtn-03-2023-0051\\n12. ToolsPedia.io. ChatPDF - Chat with any PDF files for free using AI. Available from:\\nhttps://www.toolspedia.io/ai-tool/chatpdf/ (accessed 27March 2023)\\nElectronic copy available at: https://ssrn.com/abstract=461656013. ZoogVPN. What is ChatPDF and how to use it? - ZoogVPN. Updated on 2023 May 1.\\nAvailablefrom: https://zoogvpn.com/what-is-chatpdf-and-how-to-use-it/\\n14. Research Masterminds. ChatPDF | AI for Researchers. Updated on 2023 May 4.', 'Availablefrom: https://zoogvpn.com/what-is-chatpdf-and-how-to-use-it/\\n14. Research Masterminds. ChatPDF | AI for Researchers. Updated on 2023 May 4.\\nAvailablefrom: https://youtu.be/iZHv-FY6EJc\\n15. Ortiz S. How to use ChatPDF: The AI chatbot that can tell you everything about your\\nPDF. Updated on 2023 April 28. Available from: https://www.zdnet.com/article/how-to-\\nuse-chatpdf-the-ai-chatbot-that-can-tell-you-everything-about-your-pdf/\\nElectronic copy available at: https://ssrn.com/abstract=4616560']\n"
     ]
    }
   ],
   "source": [
    "chunks = get_text_chunks(raw_text)\n",
    "print(chunks)"
   ]
  },
  {
   "cell_type": "code",
   "execution_count": 122,
   "metadata": {},
   "outputs": [],
   "source": [
    "embeddings = HuggingFaceEmbeddings(model_name=\"all-MiniLM-L6-v2\")"
   ]
  },
  {
   "cell_type": "code",
   "execution_count": 123,
   "metadata": {},
   "outputs": [],
   "source": [
    "# # Creating objects representing each document with both text and embeddings\n",
    "# class Document:\n",
    "#     def __init__(self, text, score, embeddings, metadata=None):\n",
    "#         self.page_content = text\n",
    "#         self.embeddings = embeddings\n",
    "#         self.metadata = {\"score\": score} if metadata is None else metadata"
   ]
  },
  {
   "cell_type": "code",
   "execution_count": 124,
   "metadata": {},
   "outputs": [],
   "source": [
    "# Creating objects representing each document with both text and embeddings\n",
    "class Document:\n",
    "    def __init__(self, text, embeddings, metadata=None):\n",
    "        self.page_content = text\n",
    "        self.embeddings = embeddings\n",
    "        self.metadata = metadata"
   ]
  },
  {
   "cell_type": "code",
   "execution_count": 125,
   "metadata": {},
   "outputs": [
    {
     "name": "stdout",
     "output_type": "stream",
     "text": [
      "[<__main__.Document object at 0x0000018CBF38C450>, <__main__.Document object at 0x0000018C9BF973D0>, <__main__.Document object at 0x0000018CA3285DD0>, <__main__.Document object at 0x0000018CBF3EA250>, <__main__.Document object at 0x0000018CC032CB90>, <__main__.Document object at 0x0000018CA2800490>, <__main__.Document object at 0x0000018CBF507010>, <__main__.Document object at 0x0000018CBF3AE110>, <__main__.Document object at 0x0000018C8FEC2D10>, <__main__.Document object at 0x0000018CBDCD9350>, <__main__.Document object at 0x0000018CC0173F10>, <__main__.Document object at 0x0000018CA2829DD0>, <__main__.Document object at 0x0000018C9FC8D810>, <__main__.Document object at 0x0000018C9BFA1DD0>, <__main__.Document object at 0x0000018CA533DA90>, <__main__.Document object at 0x0000018CA1AAA650>, <__main__.Document object at 0x0000018CBF3B8550>, <__main__.Document object at 0x0000018CBFFE8250>, <__main__.Document object at 0x0000018CC01E7FD0>, <__main__.Document object at 0x0000018CBDCE6550>, <__main__.Document object at 0x0000018C9BF54290>, <__main__.Document object at 0x0000018C9B9D7850>, <__main__.Document object at 0x0000018CC01E4310>, <__main__.Document object at 0x0000018CC00E7ED0>, <__main__.Document object at 0x0000018CBFFE6C10>, <__main__.Document object at 0x0000018C9BF55650>, <__main__.Document object at 0x0000018CC0338A10>, <__main__.Document object at 0x0000018CC5B39510>, <__main__.Document object at 0x0000018CC0337B50>]\n"
     ]
    }
   ],
   "source": [
    "documents = []\n",
    "for chunk in chunks:\n",
    "    embedding_vectors = embeddings.embed_documents([chunk])\n",
    "    # print(embedding_vectors)\n",
    "    # Creating document object for each chunk\n",
    "    document = Document(chunk, embedding_vectors[0], metadata={})\n",
    "    documents.append(document)\n",
    "\n",
    "print(documents)"
   ]
  },
  {
   "cell_type": "code",
   "execution_count": 126,
   "metadata": {},
   "outputs": [],
   "source": [
    "# documents=[]\n",
    "# for chunk in chunks:\n",
    "#     embedding_vectors= embeddings.embed_documents([chunk])\n",
    "#     # print(embedding_vectors)\n",
    "#     doc_score=1.0 #currently setting it to 1.0\n",
    "#     # Creating document object for each chunk\n",
    "#     document=Document(chunk, embedding_vectors[0], doc_score)\n",
    "#     documents.append(document)\n",
    "\n",
    "# print(documents)"
   ]
  },
  {
   "cell_type": "code",
   "execution_count": 127,
   "metadata": {},
   "outputs": [],
   "source": [
    "# @classmethod\n",
    "# def from_documents(cls, documents, embedding, **kwargs):\n",
    "#     texts = [d.page_content for d in documents]\n",
    "#     return cls.from_texts(texts, embedding, **kwargs)"
   ]
  },
  {
   "cell_type": "code",
   "execution_count": 128,
   "metadata": {},
   "outputs": [],
   "source": [
    "db = FAISS.from_documents(documents, embeddings)"
   ]
  },
  {
   "cell_type": "code",
   "execution_count": 129,
   "metadata": {},
   "outputs": [],
   "source": [
    "# FAISS(Facebook AI Similarity Search)\n",
    "query=\"what is this pdf about?\"\n",
    "# query_chunks= get_text_chunks(query)\n",
    "# print(query_chunks)"
   ]
  },
  {
   "cell_type": "code",
   "execution_count": 130,
   "metadata": {},
   "outputs": [
    {
     "name": "stdout",
     "output_type": "stream",
     "text": [
      "[[-0.08536584675312042, 0.09150689095258713, -0.08419298380613327, 0.02204255573451519, 0.022216223180294037, 0.018777862191200256, 0.03154744952917099, 0.002281725639477372, -0.10130906850099564, 0.0036651636473834515, 0.04448528587818146, 0.09752530604600906, 0.012333959341049194, -0.06200604885816574, -0.15755796432495117, 0.005351174157112837, -0.03027423471212387, -0.11461827158927917, -0.03213956579566002, 0.07018972933292389, -0.0033783921971917152, 0.007904857397079468, 0.03385080769658089, 0.013757845386862755, -0.00012495237751863897, 0.0022582539822906256, -0.053301602602005005, -0.011961321346461773, -0.010334695689380169, -0.023633478209376335, 0.05988442525267601, 0.0803077295422554, 0.03502393886446953, 0.007845132611691952, 0.02264735847711563, -0.002206980949267745, 0.05608081445097923, -0.013835192658007145, 0.07526884227991104, 0.038035959005355835, 0.014889180660247803, -0.12405292689800262, -0.008694722317159176, 0.01683998294174671, -0.0233067087829113, 0.04453589767217636, -0.06623321026563644, -0.05307526886463165, -0.03288903459906578, 0.014975304715335369, -0.03988543897867203, 0.023605329915881157, -0.014581059105694294, -0.06846621632575989, 0.08800011873245239, 0.016871407628059387, 0.008224671706557274, -0.03550136461853981, -0.058876316994428635, -0.05191012844443321, 0.020956967025995255, -0.006884409114718437, -0.022171787917613983, 0.09263191372156143, 0.12055050581693649, -0.010509703308343887, 0.003212322946637869, 0.032191574573516846, 0.0019939979538321495, -0.09434466809034348, -0.07116732746362686, 0.00915126409381628, 0.0028074339497834444, -0.009728244505822659, 0.02103538066148758, -0.09687967598438263, -0.010852223262190819, 0.014387641102075577, 0.05237498879432678, -0.15943695604801178, 0.08138763904571533, 0.012857252731919289, 0.013049180619418621, -0.02117239125072956, 0.007313635665923357, -0.006518690846860409, -0.002088896231725812, -0.04961544647812843, 0.09163489192724228, 0.04226791486144066, -0.001829219632782042, -0.03536089509725571, -0.014862827956676483, 0.025998882949352264, -0.06622081995010376, 0.04127443954348564, -0.010309901088476181, -0.113894522190094, 0.021664081141352654, 0.11234325170516968, 0.08512301743030548, -0.02991112880408764, 0.10123267769813538, -0.07780921459197998, -0.07808094471693039, -0.20510314404964447, -0.02406451851129532, 0.02523147687315941, -0.021990923210978508, -0.008165102452039719, 0.005602970253676176, -0.09223786741495132, -0.039342720061540604, -0.0008981046848930418, -0.014803595840930939, 0.014062958769500256, 0.027777699753642082, -0.008358343504369259, 0.0007796406862325966, 0.009284514002501965, -0.02217537723481655, -0.025885069742798805, -0.13654682040214539, -0.005840482655912638, -0.05989019200205803, -0.01833750493824482, -0.015039771795272827, -6.287059536344017e-33, 0.0032942036632448435, -0.027270900085568428, -0.06401829421520233, 0.047397978603839874, 0.08287186175584793, -0.01169072836637497, 0.0018056880217045546, -0.06774276494979858, -0.03553260862827301, -0.0014689627569168806, -0.008473899215459824, 0.07006488740444183, -0.005466288421303034, 0.08983346819877625, -0.04125006124377251, -0.06230255961418152, -0.09705130755901337, 0.0878627821803093, 0.003059276845306158, -0.01901128701865673, 0.04827031120657921, 0.04300867021083832, 0.011360768228769302, -0.025467367842793465, 0.005997784435749054, 0.0647907480597496, -0.0073657408356666565, -0.04910912364721298, 0.019885791465640068, 0.04447033628821373, -0.01998062990605831, 0.1397244930267334, -0.035296473652124405, -0.14155490696430206, 0.06072833016514778, 0.008136078715324402, 0.0003018792485818267, -0.049078088253736496, -0.047653865069150925, -0.0024565733037889004, -0.04235870763659477, -0.035799819976091385, 0.033870138227939606, 0.017969341948628426, -0.027070514857769012, 0.046289850026369095, 0.04332052543759346, -0.02143523097038269, 0.08535590022802353, -0.014123193919658661, -0.03912121802568436, -0.019980350509285927, 0.0022551696747541428, -0.0215744748711586, 0.06400555372238159, 0.010174250230193138, -0.04888635128736496, 0.006080965045839548, -0.038452547043561935, -0.037337109446525574, 0.09627998620271683, 0.032710082828998566, -0.08116444200277328, -0.00723233399912715, -0.06174419820308685, -0.01243547722697258, -0.07005459070205688, -0.04546050727367401, 0.10201951861381531, 0.023726480081677437, -0.047367628663778305, 0.00022156847990117967, 0.03837643563747406, -0.0846562311053276, -0.022665703669190407, 0.055477093905210495, 0.02808275818824768, 0.05765736475586891, -0.01568763516843319, -0.055175505578517914, -0.06061621382832527, -0.0303923562169075, 0.03765058144927025, -0.046133704483509064, -0.008702937513589859, 0.017085054889321327, 0.014433194883167744, -0.009069000370800495, 0.0019069579429924488, -0.005965994205325842, 0.013261441141366959, -0.007877000607550144, -0.03982621803879738, 0.01800204999744892, 0.055162541568279266, 1.0598943996525006e-33, -0.0996040403842926, -0.014643455855548382, -0.05638476833701134, 0.05017536133527756, 0.020047210156917572, -0.007151388563215733, -0.1069641187787056, 0.10265753418207169, -0.011598881334066391, -0.019481927156448364, -0.09150154143571854, -0.04583374783396721, 0.052967220544815063, 0.024563994258642197, 0.016772394999861717, -0.09085795283317566, 0.0670475959777832, -0.038801148533821106, -0.05107073113322258, 0.016934502869844437, 0.016372844576835632, 0.010659405030310154, 0.014388945885002613, 0.0032675594557076693, 0.01740446127951145, 0.04854545369744301, 0.07489436864852905, -0.05915112793445587, -0.014393740333616734, 0.01990150846540928, -0.013177919201552868, -0.044539496302604675, 0.0002043570566456765, 0.05778554454445839, -0.017882373183965683, -0.02343701384961605, 0.09691978245973587, 0.009588640183210373, -0.026364341378211975, -0.08770981431007385, 0.0384000688791275, -0.022415785118937492, 0.023388011381030083, -0.1154550164937973, 0.026058843359351158, 0.05787312611937523, 0.02009793557226658, 0.026520200073719025, 0.005559228360652924, 0.0008145103347487748, 0.007950037717819214, 0.042010486125946045, 0.013911131769418716, 0.008998850360512733, -0.09938886016607285, 0.041205860674381256, -0.07406062632799149, -0.015945181250572205, 0.04959220066666603, 0.09469413757324219, -0.02519703283905983, 0.06507542729377747, -0.05166907235980034, 0.02573520690202713, -0.025328265503048897, -0.04586506262421608, -0.06933087110519409, -0.05235010385513306, 0.05020444095134735, 0.06521482765674591, 0.019574174657464027, -0.05058909207582474, -0.03435351699590683, -0.07065503299236298, 0.010005083866417408, 0.039525289088487625, 0.03349679335951805, 0.0008528659236617386, -0.04822691157460213, 0.022627446800470352, 0.07423851639032364, -0.01806500554084778, -0.01077053789049387, 0.06816107034683228, 0.06066061928868294, -0.005770980380475521, 0.010357897728681564, -0.020295677706599236, -0.01888350211083889, -0.017680000513792038, 0.06411576271057129, 0.02823214791715145, -0.05947934463620186, 0.0489162914454937, 0.032050132751464844, -1.7533441365458202e-08, 0.016614926978945732, -0.04026199132204056, -0.043909624218940735, -0.07021345943212509, 0.08581575751304626, 0.023462418466806412, 0.05501481145620346, -0.02939067780971527, -0.02938695065677166, 0.07070393860340118, 0.05472293496131897, -0.011128506623208523, 0.014086343348026276, -0.045423608273267746, -0.009348267689347267, 0.03701041638851166, 0.015131439082324505, -0.000990481348708272, -0.08349183201789856, -0.04302579164505005, 0.05654662102460861, -0.061924323439598083, 0.021885929629206657, -0.053946636617183685, -0.05895758047699928, 0.03748755156993866, 0.015011698938906193, 0.057966046035289764, -0.02734501287341118, -0.04933052510023117, -0.06828083842992783, 0.12363725155591965, -0.04196503385901451, 0.019888561218976974, -0.026303332298994064, 0.10023941844701767, 0.04547455161809921, -0.00750774098560214, 0.018456896767020226, 0.01412803865969181, -0.04258675500750542, -0.010249543003737926, 0.04259055107831955, 0.02679462544620037, 0.035611897706985474, 0.032663848251104355, -0.03773168846964836, -0.006396261975169182, 0.0004403162747621536, 0.07647064328193665, 0.017114512622356415, 0.020668750628829002, 0.0338238924741745, 0.06446412950754166, -0.047121647745370865, 0.03480389341711998, 0.02705729752779007, 0.028957342728972435, 0.0021285333205014467, 0.011894606053829193, 0.04224586859345436, 0.04893259331583977, 0.048592887818813324, 0.05735462158918381]]\n"
     ]
    }
   ],
   "source": [
    "# document2=[]\n",
    "# for query_chunk in query_chunks:\n",
    "#     query_embeddings = embeddings.embed_documents([query_chunk])\n",
    "\n",
    "#     query_document=Document(query_chunk, query_embeddings[0], metadata={})\n",
    "#     document2.append(query_document)\n",
    "# print(document2)\n",
    "query_embeddings=embeddings.embed_documents([query])\n",
    "print(query_embeddings)"
   ]
  },
  {
   "cell_type": "code",
   "execution_count": 131,
   "metadata": {},
   "outputs": [],
   "source": [
    "docs = db.similarity_search(query)\n",
    "# print(docs)\n",
    "content = \"\\n\".join([d.page_content for d in docs])\n",
    "# print(content)"
   ]
  },
  {
   "cell_type": "code",
   "execution_count": 132,
   "metadata": {},
   "outputs": [],
   "source": [
    "# ranked_docs = sorted(docs, key=lambda x: x[1], reverse=True)"
   ]
  },
  {
   "cell_type": "code",
   "execution_count": 133,
   "metadata": {},
   "outputs": [],
   "source": [
    "# print(\"Top 5 most relevant documents:\")\n",
    "# for doc in docs:\n",
    "#     print(\n",
    "#         f\"Relevance score:{doc.metadata['score']:.2f}\"\n",
    "#     )  # assessing score key in metadata dictionary and :.2f formats the float value to have two decimal places.\n",
    "#     print(doc.page_content) #prints text chunk from pdf file\n",
    "#     print(\"-\" * 5)"
   ]
  },
  {
   "cell_type": "code",
   "execution_count": 134,
   "metadata": {},
   "outputs": [
    {
     "name": "stdout",
     "output_type": "stream",
     "text": [
      "Use the following pieces of context to answer the user's question. If you don't know the answer, just say that you don't know, don't try to make up an answer.----------------\n",
      "Context:experience and hinderengagement.\n",
      "i) Limited interactivity: Traditional PDFs are static documents that offer limited\n",
      "interactivity, which can make them less engaging and less useful for users who are\n",
      "looking for more dynamic content. For example, users may not beable to interact with or\n",
      "manipulate the information in a traditional PDF in the same way that they could with a\n",
      "webpage orother digital content.\n",
      "ii) Inefficient navigation: PDFs can be challenging to navigate, particularly for longer\n",
      "documents. Users may have difficulty finding specific information or moving between\n",
      "different sections of thedocument, which can lead tofrustration and reduced engagement.\n",
      "Electronic copy available at: https://ssrn.com/abstract=4616560iii) Limited accessibility: Traditional PDFs may not be accessible to all users, particularly\n",
      "those with visual impairments or other disabilities. PDFs may not be compatible with\n",
      "screen readers or other assistive technologies, which can make it difficult for some users\n",
      "Availablefrom: https://zoogvpn.com/what-is-chatpdf-and-how-to-use-it/\n",
      "14. Research Masterminds. ChatPDF | AI for Researchers. Updated on 2023 May 4.\n",
      "Availablefrom: https://youtu.be/iZHv-FY6EJc\n",
      "15. Ortiz S. How to use ChatPDF: The AI chatbot that can tell you everything about your\n",
      "PDF. Updated on 2023 April 28. Available from: https://www.zdnet.com/article/how-to-\n",
      "use-chatpdf-the-ai-chatbot-that-can-tell-you-everything-about-your-pdf/\n",
      "Electronic copy available at: https://ssrn.com/abstract=4616560\n",
      "Electronic copy available at: https://ssrn.com/abstract=4616560additional features and enhancements, and assessing the potential impact of ChatPDF\n",
      "implementationonlibrary systems.\n",
      "References\n",
      "1. Duragannavar GF, Kumar HSA. Digital and Virtual Libraries: Transformation in\n",
      "Libraries and Information Services. International Conference on Library Space and\n",
      "Content Management for Networked Society (IC.LISCOM-2014). Bangalore: DVK\n",
      "Central Library, Dharmaram Vidya Kshetram; 2014.\n",
      "https://www.researchgate.net/publication/345978690\n",
      "2. Adobe. What is a PDF? Portable Document Format | Adobe Acrobat. Available from:\n",
      "https://www.adobe.com/in/acrobat/about-adobe-pdf.html (accessed 27March 2023)\n",
      "3. ChatPDF. Chat with any PDF! Available from: https://www.chatpdf.com/ (accessed 27\n",
      "March 2023)\n",
      "4. NapSaga. ChatPDF.com —Chat withany PDFusing thenew ChatGPT API. Updated on\n",
      "2023 March 21. Available from: https://ai.plainenglish.io/chatpdf-com-chat-with-any-\n",
      "pdf-using-the-new-chatgpt-api-1864407a4d5f\n",
      "summarization lack the ability to generate summary of the entire PDF file,\n",
      "summaries of the content, which presents only the crucial\n",
      "leaving users with the task information from the content in a\n",
      "of reading the entire concise format, and facilitate easy\n",
      "document to gain a comprehension of the document,\n",
      "comprehensive thereby enhancing the user\n",
      "understanding ofthe content experience\n",
      "3 Valuable Traditional PDF readers do ChatPDF provides some valuable\n",
      "recommendation not have the ability to recommendations or suggestions in\n",
      "provide recommendations points, highlighting the important\n",
      "for users to access relevant aspects discussed within thePDF\n",
      "information available in the\n",
      "PDFfile\n",
      "4 Timesaver Traditional PDF readers are Features such as easy summarization\n",
      "limited in their ability to and recommendations assist users in\n",
      "assist users in saving time navigating only the topics of their\n",
      "by providing an interest within the PDF, thereby\n",
      "understanding of the PDF saving theirvaluable time\n",
      "User question:\n",
      "what is this pdf about?\n"
     ]
    }
   ],
   "source": [
    "qa_prompt = \"Use the following pieces of context to answer the user's question. If you don't know the answer, just say that you don't know, don't try to make up an answer.----------------\"\n",
    "input_text = qa_prompt + \"\\nContext:\" + content + \"\\nUser question:\\n\" + query\n",
    "print(input_text)"
   ]
  },
  {
   "cell_type": "code",
   "execution_count": 135,
   "metadata": {},
   "outputs": [],
   "source": [
    "# load_dotenv()\n",
    "# api_key= os.getenv(\"ChatAnthropic_API\")\n",
    "# llm = ChatAnthropic(\n",
    "#     api_key=api_key, model_name=\"claude-3-sonnet-20240229\"\n",
    "# )"
   ]
  },
  {
   "cell_type": "code",
   "execution_count": 136,
   "metadata": {},
   "outputs": [],
   "source": [
    "# result = llm.invoke(input_text)\n",
    "# print(result.content)"
   ]
  },
  {
   "cell_type": "code",
   "execution_count": null,
   "metadata": {},
   "outputs": [],
   "source": []
  },
  {
   "cell_type": "code",
   "execution_count": null,
   "metadata": {},
   "outputs": [],
   "source": []
  },
  {
   "cell_type": "code",
   "execution_count": null,
   "metadata": {},
   "outputs": [],
   "source": []
  }
 ],
 "metadata": {
  "kernelspec": {
   "display_name": "Python 3",
   "language": "python",
   "name": "python3"
  },
  "language_info": {
   "codemirror_mode": {
    "name": "ipython",
    "version": 3
   },
   "file_extension": ".py",
   "mimetype": "text/x-python",
   "name": "python",
   "nbconvert_exporter": "python",
   "pygments_lexer": "ipython3",
   "version": "3.11.3"
  }
 },
 "nbformat": 4,
 "nbformat_minor": 2
}
